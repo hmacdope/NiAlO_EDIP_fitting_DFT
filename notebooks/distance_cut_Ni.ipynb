{
 "cells": [
  {
   "cell_type": "code",
   "execution_count": 10,
   "id": "394adf7a-b28c-41d9-be08-eb97334a48fb",
   "metadata": {},
   "outputs": [
    {
     "name": "stderr",
     "output_type": "stream",
     "text": [
      "/home/hmacdope/anaconda3/envs/flow/lib/python3.9/site-packages/tqdm/auto.py:22: TqdmWarning: IProgress not found. Please update jupyter and ipywidgets. See https://ipywidgets.readthedocs.io/en/stable/user_install.html\n",
      "  from .autonotebook import tqdm as notebook_tqdm\n"
     ]
    }
   ],
   "source": [
    "import MDAnalysis as mda\n",
    "from MDAnalysis.lib.distances import capped_distance"
   ]
  },
  {
   "cell_type": "code",
   "execution_count": 11,
   "id": "53a429bd-78c2-4688-b942-1155097450b3",
   "metadata": {},
   "outputs": [
    {
     "name": "stderr",
     "output_type": "stream",
     "text": [
      "/home/hmacdope/anaconda3/envs/flow/lib/python3.9/site-packages/MDAnalysis/topology/guessers.py:146: UserWarning: Failed to guess the mass for the following atom types: X\n",
      "  warnings.warn(\"Failed to guess the mass for the following atom types: {}\".format(atom_type))\n"
     ]
    }
   ],
   "source": [
    "u = mda.Universe(\"../output/Ni_scans.xyz\")"
   ]
  },
  {
   "cell_type": "code",
   "execution_count": 12,
   "id": "fc1a6940-6a90-4c59-adbb-4ef96f2de407",
   "metadata": {},
   "outputs": [],
   "source": [
    "names = 'SlabNiO2-s01/final_state.xyz SlabNiO2-s02/final_state.xyz SlabNiO2-s03/final_state.xyz SlabNiO2-s04/final_state.xyz SlabNiO2-s05/final_state.xyz SlabNiO2-s06/final_state.xyz SlabNiO2-s07/final_state.xyz SlabNiO2-s08/final_state.xyz SlabNiO2-s11/final_state.xyz SlabNiO2-s12/final_state.xyz SlabNiO2-s13/final_state.xyz SlabNiO2-s14/final_state.xyz SlabNiO2-s15/final_state.xyz SlabNiO2-s16/final_state.xyz SlabNiO2-s17/final_state.xyz SlabNiO2-s18/final_state.xyz SlabNiO2-s21/final_state.xyz  SlabNiO2-s22/final_state.xyz SlabNiO2-s23/final_state.xyz SlabNiO2-s24/final_state.xyz SlabNiO2-s25/final_state.xyz SlabNiO2-s26/final_state.xyz SlabNiO2-s27/final_state.xyz SlabNiO2-s28/final_state.xy'"
   ]
  },
  {
   "cell_type": "code",
   "execution_count": 13,
   "id": "0b23f0e8-f538-4241-8359-7f7f939a49dd",
   "metadata": {},
   "outputs": [],
   "source": [
    "names = names.split()\n"
   ]
  },
  {
   "cell_type": "code",
   "execution_count": 14,
   "id": "a9ae276e-23c8-48e7-977e-f2eb1bbe1a69",
   "metadata": {},
   "outputs": [
    {
     "data": {
      "text/plain": [
       "['SlabNiO2-s01/final_state.xyz',\n",
       " 'SlabNiO2-s02/final_state.xyz',\n",
       " 'SlabNiO2-s03/final_state.xyz',\n",
       " 'SlabNiO2-s04/final_state.xyz',\n",
       " 'SlabNiO2-s05/final_state.xyz',\n",
       " 'SlabNiO2-s06/final_state.xyz',\n",
       " 'SlabNiO2-s07/final_state.xyz',\n",
       " 'SlabNiO2-s08/final_state.xyz',\n",
       " 'SlabNiO2-s11/final_state.xyz',\n",
       " 'SlabNiO2-s12/final_state.xyz',\n",
       " 'SlabNiO2-s13/final_state.xyz',\n",
       " 'SlabNiO2-s14/final_state.xyz',\n",
       " 'SlabNiO2-s15/final_state.xyz',\n",
       " 'SlabNiO2-s16/final_state.xyz',\n",
       " 'SlabNiO2-s17/final_state.xyz',\n",
       " 'SlabNiO2-s18/final_state.xyz',\n",
       " 'SlabNiO2-s21/final_state.xyz',\n",
       " 'SlabNiO2-s22/final_state.xyz',\n",
       " 'SlabNiO2-s23/final_state.xyz',\n",
       " 'SlabNiO2-s24/final_state.xyz',\n",
       " 'SlabNiO2-s25/final_state.xyz',\n",
       " 'SlabNiO2-s26/final_state.xyz',\n",
       " 'SlabNiO2-s27/final_state.xyz',\n",
       " 'SlabNiO2-s28/final_state.xy']"
      ]
     },
     "execution_count": 14,
     "metadata": {},
     "output_type": "execute_result"
    }
   ],
   "source": [
    "names"
   ]
  },
  {
   "cell_type": "code",
   "execution_count": 15,
   "id": "349cb3bf-a9af-4376-8673-28acf8f2f228",
   "metadata": {},
   "outputs": [
    {
     "data": {
      "text/plain": [
       "['SlabNiO2-s01',\n",
       " 'SlabNiO2-s02',\n",
       " 'SlabNiO2-s03',\n",
       " 'SlabNiO2-s04',\n",
       " 'SlabNiO2-s05',\n",
       " 'SlabNiO2-s06',\n",
       " 'SlabNiO2-s07',\n",
       " 'SlabNiO2-s08',\n",
       " 'SlabNiO2-s11',\n",
       " 'SlabNiO2-s12',\n",
       " 'SlabNiO2-s13',\n",
       " 'SlabNiO2-s14',\n",
       " 'SlabNiO2-s15',\n",
       " 'SlabNiO2-s16',\n",
       " 'SlabNiO2-s17',\n",
       " 'SlabNiO2-s18',\n",
       " 'SlabNiO2-s21',\n",
       " 'SlabNiO2-s22',\n",
       " 'SlabNiO2-s23',\n",
       " 'SlabNiO2-s24',\n",
       " 'SlabNiO2-s25',\n",
       " 'SlabNiO2-s26',\n",
       " 'SlabNiO2-s27',\n",
       " 'SlabNiO2-s28']"
      ]
     },
     "execution_count": 15,
     "metadata": {},
     "output_type": "execute_result"
    }
   ],
   "source": [
    "names_split = [n.split('/')[0] for n in names]\n",
    "names_split"
   ]
  },
  {
   "cell_type": "code",
   "execution_count": 16,
   "id": "3b31b5ae-1a14-423b-aef4-bb58541b38d4",
   "metadata": {},
   "outputs": [
    {
     "data": {
      "text/plain": [
       "24"
      ]
     },
     "execution_count": 16,
     "metadata": {},
     "output_type": "execute_result"
    }
   ],
   "source": [
    "len(names_split)"
   ]
  },
  {
   "cell_type": "code",
   "execution_count": 17,
   "id": "d250eb52-ed71-4a9a-baa1-6fa85f59d7c6",
   "metadata": {},
   "outputs": [
    {
     "data": {
      "text/plain": [
       "24"
      ]
     },
     "execution_count": 17,
     "metadata": {},
     "output_type": "execute_result"
    }
   ],
   "source": [
    "u.trajectory.n_frames"
   ]
  },
  {
   "cell_type": "code",
   "execution_count": 18,
   "id": "6d0ef4d9-e5e5-4c97-9cb5-b28e3c9395d1",
   "metadata": {},
   "outputs": [],
   "source": [
    "O = u.select_atoms(\"name O\")"
   ]
  },
  {
   "cell_type": "code",
   "execution_count": 19,
   "id": "9fe1bc3d-9baa-4413-8440-bfbb7cc6aaec",
   "metadata": {},
   "outputs": [],
   "source": [
    "u.dimensions"
   ]
  },
  {
   "cell_type": "code",
   "execution_count": 20,
   "id": "d1f319d3-27e2-4bbc-bc1a-cf3339835708",
   "metadata": {},
   "outputs": [
    {
     "data": {
      "text/plain": [
       "<AtomGroup with 8 atoms>"
      ]
     },
     "execution_count": 20,
     "metadata": {},
     "output_type": "execute_result"
    }
   ],
   "source": [
    "u.select_atoms(\"name X\")"
   ]
  },
  {
   "cell_type": "code",
   "execution_count": 21,
   "id": "f8de4fee-36e8-4f8b-a21c-13f46fb2ee90",
   "metadata": {},
   "outputs": [],
   "source": [
    "al = u.select_atoms(\"name Ni\")"
   ]
  },
  {
   "cell_type": "code",
   "execution_count": 23,
   "id": "4846f6d4-add4-4f5e-a027-7d73497a1313",
   "metadata": {},
   "outputs": [
    {
     "name": "stdout",
     "output_type": "stream",
     "text": [
      "SlabNiO2-s01\n",
      "SlabNiO2-s02\n",
      "SlabNiO2-s03\n",
      "SlabNiO2-s04\n",
      "SlabNiO2-s05\n",
      "SlabNiO2-s06\n",
      "remove\n",
      "SlabNiO2-s07\n",
      "remove\n",
      "SlabNiO2-s08\n",
      "remove\n",
      "SlabNiO2-s11\n",
      "SlabNiO2-s12\n",
      "SlabNiO2-s13\n",
      "SlabNiO2-s14\n",
      "SlabNiO2-s15\n",
      "SlabNiO2-s16\n",
      "remove\n",
      "SlabNiO2-s17\n",
      "remove\n",
      "SlabNiO2-s18\n",
      "remove\n",
      "SlabNiO2-s21\n",
      "SlabNiO2-s22\n",
      "SlabNiO2-s23\n",
      "SlabNiO2-s24\n",
      "SlabNiO2-s25\n",
      "SlabNiO2-s26\n",
      "remove\n",
      "SlabNiO2-s27\n",
      "remove\n",
      "SlabNiO2-s28\n",
      "remove\n"
     ]
    }
   ],
   "source": [
    " for i, ts in enumerate(u.trajectory):\n",
    "        a = capped_distance(al.positions, O.positions, 4.0)\n",
    "        print(names_split[i])\n",
    "        if len(a[0]) == 0:\n",
    "            print(\"remove\")"
   ]
  },
  {
   "cell_type": "code",
   "execution_count": null,
   "id": "24470e97-a425-44f8-9479-32498ef355ba",
   "metadata": {},
   "outputs": [],
   "source": []
  },
  {
   "cell_type": "code",
   "execution_count": null,
   "id": "8a604209-0062-4c5c-86da-7408b4ee5d8b",
   "metadata": {},
   "outputs": [],
   "source": []
  },
  {
   "cell_type": "code",
   "execution_count": null,
   "id": "c1d6ab29-7d41-4227-874a-24083768258d",
   "metadata": {},
   "outputs": [],
   "source": []
  }
 ],
 "metadata": {
  "kernelspec": {
   "display_name": "Python 3 (ipykernel)",
   "language": "python",
   "name": "python3"
  },
  "language_info": {
   "codemirror_mode": {
    "name": "ipython",
    "version": 3
   },
   "file_extension": ".py",
   "mimetype": "text/x-python",
   "name": "python",
   "nbconvert_exporter": "python",
   "pygments_lexer": "ipython3",
   "version": "3.9.12"
  }
 },
 "nbformat": 4,
 "nbformat_minor": 5
}
