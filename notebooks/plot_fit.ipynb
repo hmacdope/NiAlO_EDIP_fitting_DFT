{
 "cells": [
  {
   "cell_type": "code",
   "execution_count": 2,
   "id": "a517d645-8d92-412b-8d02-0382a09f9328",
   "metadata": {},
   "outputs": [
    {
     "name": "stdout",
     "output_type": "stream",
     "text": [
      "(103, 51)\n"
     ]
    }
   ],
   "source": [
    "import numpy as np\n",
    "import matplotlib.pyplot as plt\n",
    "\n",
    "with open(\"./frankenstein_out\") as f:\n",
    "    lines = f.readlines()\n",
    "\n",
    "\n",
    " \n",
    "\n",
    "allvals = []\n",
    "opx_start = 0\n",
    "opx_end = 0\n",
    "for i, line in enumerate(lines):\n",
    "    if \"INITIAL X\" in line:\n",
    "        xlines = lines[i+1:i+6]\n",
    "        joined = \" \".join(xlines)\n",
    "        nums = [float(i) for i in joined.split()]\n",
    "        allvals.append(nums)\n",
    "\n",
    "    if \"CURRENT OPTIMAL X\" in line:\n",
    "        opx_start = i +1\n",
    "    if \"STEP LENGTH (VM)\" in line:\n",
    "        opx_end = i-1\n",
    "        xlines = lines[opx_start:opx_end]\n",
    "        joined = \" \".join(xlines)\n",
    "        nums = [float(i) for i in joined.split()]\n",
    "        allvals.append(nums)\n",
    "\n",
    "values = np.asarray(allvals)\n",
    "print(values.shape)\n"
   ]
  },
  {
   "cell_type": "code",
   "execution_count": 3,
   "id": "522020ee-cbdb-4475-9454-30a4fb2502f8",
   "metadata": {},
   "outputs": [
    {
     "data": {
      "text/plain": [
       "(103, 15)"
      ]
     },
     "execution_count": 3,
     "metadata": {},
     "output_type": "execute_result"
    }
   ],
   "source": [
    "P2b =  values[:,0:15]\n",
    "P2b.shape"
   ]
  },
  {
   "cell_type": "code",
   "execution_count": 4,
   "id": "89e8ecd4-da48-4a81-853b-8a23c007466d",
   "metadata": {},
   "outputs": [
    {
     "data": {
      "text/plain": [
       "array([[67.868  ,  3.836  ,  0.48651,  6.0779 ,  3.8287 ,  0.46536,\n",
       "        26.117  ,  2.3828 ,  0.65982],\n",
       "       [67.868  ,  3.836  ,  0.48651,  6.0779 ,  3.8287 ,  0.46536,\n",
       "        26.117  ,  2.3828 ,  0.65982],\n",
       "       [67.868  ,  3.836  ,  0.48651,  6.0779 ,  3.8287 ,  0.46536,\n",
       "        26.117  ,  2.3828 ,  0.65982],\n",
       "       [67.868  ,  3.836  ,  0.48651,  6.0779 ,  3.8287 ,  0.46536,\n",
       "        26.117  ,  2.3828 ,  0.65982],\n",
       "       [67.868  ,  3.836  ,  0.48651,  6.0779 ,  3.8287 ,  0.46536,\n",
       "        26.117  ,  2.3828 ,  0.65982],\n",
       "       [67.868  ,  3.836  ,  0.48651,  6.0779 ,  3.8287 ,  0.46536,\n",
       "        26.117  ,  2.3828 ,  0.65982],\n",
       "       [67.868  ,  3.836  ,  0.48651,  6.0779 ,  3.8287 ,  0.46536,\n",
       "        26.117  ,  2.3828 ,  0.65982],\n",
       "       [67.868  ,  3.836  ,  0.48651,  6.0779 ,  3.8287 ,  0.46536,\n",
       "        26.117  ,  2.3828 ,  0.65982],\n",
       "       [67.868  ,  3.836  ,  0.48651,  6.0779 ,  3.8287 ,  0.46536,\n",
       "        26.117  ,  2.3828 ,  0.65982],\n",
       "       [67.868  ,  3.836  ,  0.48651,  6.0779 ,  3.8287 ,  0.46536,\n",
       "        26.117  ,  2.3828 ,  0.65982],\n",
       "       [67.868  ,  3.836  ,  0.48651,  6.0779 ,  3.8287 ,  0.46536,\n",
       "        26.117  ,  2.3828 ,  0.65982],\n",
       "       [67.868  ,  3.836  ,  0.48656,  6.0838 ,  3.8287 ,  0.46536,\n",
       "        26.117  ,  2.3828 ,  0.65982],\n",
       "       [67.868  ,  3.836  ,  0.48656,  6.0838 ,  3.8287 ,  0.46536,\n",
       "        26.117  ,  2.3828 ,  0.65982],\n",
       "       [67.868  ,  3.836  ,  0.48656,  6.0838 ,  3.8287 ,  0.46536,\n",
       "        26.117  ,  2.3828 ,  0.65982],\n",
       "       [67.868  ,  3.836  ,  0.48656,  6.0838 ,  3.8287 ,  0.46536,\n",
       "        26.117  ,  2.3828 ,  0.65982],\n",
       "       [67.868  ,  3.836  ,  0.48656,  6.0838 ,  3.8287 ,  0.46536,\n",
       "        26.117  ,  2.3828 ,  0.65982],\n",
       "       [67.868  ,  3.836  ,  0.48656,  6.0838 ,  3.8287 ,  0.46536,\n",
       "        26.117  ,  2.3828 ,  0.65982],\n",
       "       [67.868  ,  3.836  ,  0.48656,  6.0838 ,  3.8287 ,  0.46536,\n",
       "        26.117  ,  2.3828 ,  0.65982],\n",
       "       [67.868  ,  3.836  ,  0.48656,  6.0838 ,  3.8287 ,  0.46536,\n",
       "        26.117  ,  2.3828 ,  0.65982],\n",
       "       [67.868  ,  3.836  ,  0.48656,  6.0838 ,  3.8287 ,  0.46536,\n",
       "        26.117  ,  2.3828 ,  0.65982],\n",
       "       [67.868  ,  3.836  ,  0.48656,  6.0838 ,  3.8287 ,  0.46536,\n",
       "        26.117  ,  2.3828 ,  0.65982],\n",
       "       [67.868  ,  3.836  ,  0.48656,  6.0838 ,  3.8287 ,  0.46536,\n",
       "        26.117  ,  2.3828 ,  0.65982],\n",
       "       [67.868  ,  3.836  ,  0.48656,  6.0838 ,  3.8287 ,  0.46536,\n",
       "        26.117  ,  2.3828 ,  0.65982],\n",
       "       [67.868  ,  3.836  ,  0.48656,  6.0838 ,  3.8287 ,  0.46536,\n",
       "        26.117  ,  2.3828 ,  0.65982],\n",
       "       [68.128  ,  3.8372 ,  0.48646,  6.0093 ,  3.8279 ,  0.4645 ,\n",
       "        26.104  ,  2.3828 ,  0.65981],\n",
       "       [68.128  ,  3.8372 ,  0.48646,  6.0093 ,  3.8279 ,  0.4645 ,\n",
       "        26.104  ,  2.3828 ,  0.65981],\n",
       "       [68.128  ,  3.8372 ,  0.48646,  6.0093 ,  3.8279 ,  0.4645 ,\n",
       "        26.104  ,  2.3828 ,  0.65981],\n",
       "       [68.312  ,  3.8367 ,  0.48676,  6.0911 ,  3.8268 ,  0.46524,\n",
       "        26.104  ,  2.3831 ,  0.65977],\n",
       "       [68.057  ,  3.836  ,  0.48736,  6.1221 ,  3.8267 ,  0.46602,\n",
       "        26.089  ,  2.3832 ,  0.65983],\n",
       "       [68.986  ,  3.8364 ,  0.48767,  6.2107 ,  3.8261 ,  0.46737,\n",
       "        26.054  ,  2.3835 ,  0.65981],\n",
       "       [68.843  ,  3.8369 ,  0.48764,  6.1862 ,  3.8258 ,  0.46628,\n",
       "        26.026  ,  2.3835 ,  0.65973],\n",
       "       [68.11   ,  3.8367 ,  0.4874 ,  6.1823 ,  3.8257 ,  0.46594,\n",
       "        26.043  ,  2.3837 ,  0.65973],\n",
       "       [68.417  ,  3.8358 ,  0.48765,  6.2132 ,  3.8256 ,  0.46602,\n",
       "        26.057  ,  2.3838 ,  0.6597 ],\n",
       "       [68.834  ,  3.8386 ,  0.48803,  6.1108 ,  3.8246 ,  0.46391,\n",
       "        26.053  ,  2.3836 ,  0.6598 ],\n",
       "       [67.811  ,  3.8379 ,  0.48765,  6.1166 ,  3.8237 ,  0.46386,\n",
       "        26.04   ,  2.3834 ,  0.6599 ],\n",
       "       [67.346  ,  3.837  ,  0.48749,  6.1488 ,  3.8236 ,  0.46429,\n",
       "        26.055  ,  2.3834 ,  0.65994],\n",
       "       [66.86   ,  3.8376 ,  0.48752,  6.109  ,  3.8231 ,  0.4631 ,\n",
       "        26.058  ,  2.3833 ,  0.65996],\n",
       "       [66.703  ,  3.8366 ,  0.48765,  6.1282 ,  3.8218 ,  0.46254,\n",
       "        26.006  ,  2.3831 ,  0.65994],\n",
       "       [67.087  ,  3.8358 ,  0.48805,  6.1634 ,  3.821  ,  0.46232,\n",
       "        26.026  ,  2.3832 ,  0.65991],\n",
       "       [66.695  ,  3.8341 ,  0.48808,  6.1457 ,  3.8213 ,  0.46185,\n",
       "        26.028  ,  2.3833 ,  0.65995],\n",
       "       [66.795  ,  3.834  ,  0.48836,  6.1414 ,  3.8207 ,  0.46099,\n",
       "        26.018  ,  2.3833 ,  0.65996],\n",
       "       [66.404  ,  3.8334 ,  0.48828,  6.1048 ,  3.8205 ,  0.45986,\n",
       "        25.999  ,  2.3832 ,  0.65996],\n",
       "       [66.113  ,  3.8326 ,  0.48819,  6.0894 ,  3.8199 ,  0.45914,\n",
       "        26.004  ,  2.3832 ,  0.65999],\n",
       "       [65.948  ,  3.8325 ,  0.4883 ,  6.0627 ,  3.8193 ,  0.45826,\n",
       "        26.018  ,  2.3832 ,  0.66005],\n",
       "       [65.539  ,  3.8318 ,  0.48811,  6.0452 ,  3.8191 ,  0.45774,\n",
       "        26.011  ,  2.3833 ,  0.66002],\n",
       "       [65.444  ,  3.8308 ,  0.48809,  6.0535 ,  3.8186 ,  0.45778,\n",
       "        26.017  ,  2.3834 ,  0.66003],\n",
       "       [65.339  ,  3.8314 ,  0.48805,  6.0455 ,  3.8184 ,  0.45716,\n",
       "        25.999  ,  2.3834 ,  0.66003],\n",
       "       [65.1    ,  3.8304 ,  0.48797,  6.0316 ,  3.8181 ,  0.45677,\n",
       "        25.978  ,  2.3835 ,  0.65997],\n",
       "       [64.874  ,  3.8305 ,  0.48797,  6.0369 ,  3.8178 ,  0.45644,\n",
       "        25.97   ,  2.3835 ,  0.65998],\n",
       "       [64.668  ,  3.8306 ,  0.48781,  6.0326 ,  3.8176 ,  0.45581,\n",
       "        25.96   ,  2.3835 ,  0.65997],\n",
       "       [64.489  ,  3.8299 ,  0.48775,  6.0317 ,  3.8173 ,  0.45571,\n",
       "        25.959  ,  2.3835 ,  0.65998],\n",
       "       [64.412  ,  3.8297 ,  0.48772,  6.0168 ,  3.8172 ,  0.45498,\n",
       "        25.953  ,  2.3835 ,  0.65998],\n",
       "       [64.167  ,  3.8294 ,  0.48768,  6.0148 ,  3.8168 ,  0.45446,\n",
       "        25.942  ,  2.3835 ,  0.65999],\n",
       "       [64.042  ,  3.8287 ,  0.48771,  6.0032 ,  3.8167 ,  0.45421,\n",
       "        25.939  ,  2.3835 ,  0.65998],\n",
       "       [63.84   ,  3.8282 ,  0.48778,  6.0024 ,  3.8165 ,  0.45382,\n",
       "        25.938  ,  2.3836 ,  0.65998],\n",
       "       [63.707  ,  3.8277 ,  0.4878 ,  6.0021 ,  3.8161 ,  0.45354,\n",
       "        25.936  ,  2.3836 ,  0.65999],\n",
       "       [63.687  ,  3.8269 ,  0.48776,  5.9958 ,  3.816  ,  0.45318,\n",
       "        25.936  ,  2.3836 ,  0.65998],\n",
       "       [63.462  ,  3.8262 ,  0.48774,  6.0064 ,  3.8158 ,  0.45301,\n",
       "        25.927  ,  2.3837 ,  0.65996],\n",
       "       [63.399  ,  3.826  ,  0.48776,  6.0222 ,  3.8156 ,  0.45309,\n",
       "        25.917  ,  2.3837 ,  0.65996],\n",
       "       [63.189  ,  3.8256 ,  0.48774,  6.0281 ,  3.8156 ,  0.45301,\n",
       "        25.911  ,  2.3837 ,  0.65995],\n",
       "       [63.127  ,  3.8255 ,  0.48775,  6.0405 ,  3.8154 ,  0.45293,\n",
       "        25.91   ,  2.3838 ,  0.65994],\n",
       "       [62.945  ,  3.825  ,  0.48773,  6.0429 ,  3.8152 ,  0.45275,\n",
       "        25.91   ,  2.3838 ,  0.65993],\n",
       "       [62.829  ,  3.8249 ,  0.48772,  6.0437 ,  3.815  ,  0.45253,\n",
       "        25.909  ,  2.3839 ,  0.65993],\n",
       "       [62.699  ,  3.8244 ,  0.48772,  6.0475 ,  3.8149 ,  0.45237,\n",
       "        25.907  ,  2.3839 ,  0.65993],\n",
       "       [62.576  ,  3.8238 ,  0.4877 ,  6.0447 ,  3.8147 ,  0.45215,\n",
       "        25.904  ,  2.3839 ,  0.65993],\n",
       "       [62.447  ,  3.8235 ,  0.4877 ,  6.0498 ,  3.8146 ,  0.45196,\n",
       "        25.9    ,  2.3839 ,  0.65994],\n",
       "       [62.291  ,  3.8231 ,  0.48767,  6.0517 ,  3.8144 ,  0.45181,\n",
       "        25.902  ,  2.3839 ,  0.65994],\n",
       "       [62.173  ,  3.8227 ,  0.48766,  6.0464 ,  3.8143 ,  0.45155,\n",
       "        25.903  ,  2.384  ,  0.65994],\n",
       "       [62.041  ,  3.8223 ,  0.48766,  6.0489 ,  3.8141 ,  0.45134,\n",
       "        25.902  ,  2.384  ,  0.65993],\n",
       "       [61.89   ,  3.8216 ,  0.48764,  6.0537 ,  3.814  ,  0.45121,\n",
       "        25.901  ,  2.384  ,  0.65994],\n",
       "       [61.73   ,  3.8211 ,  0.48759,  6.0588 ,  3.8139 ,  0.45113,\n",
       "        25.901  ,  2.3841 ,  0.65993],\n",
       "       [61.625  ,  3.8208 ,  0.48758,  6.0625 ,  3.8138 ,  0.45101,\n",
       "        25.9    ,  2.3841 ,  0.65993],\n",
       "       [61.475  ,  3.8205 ,  0.48757,  6.0638 ,  3.8137 ,  0.45085,\n",
       "        25.899  ,  2.3841 ,  0.65994],\n",
       "       [61.335  ,  3.82   ,  0.48754,  6.0641 ,  3.8136 ,  0.45069,\n",
       "        25.901  ,  2.3841 ,  0.65994],\n",
       "       [61.242  ,  3.8195 ,  0.48754,  6.068  ,  3.8135 ,  0.45064,\n",
       "        25.901  ,  2.3842 ,  0.65994],\n",
       "       [61.095  ,  3.8191 ,  0.4875 ,  6.0722 ,  3.8134 ,  0.45051,\n",
       "        25.901  ,  2.3842 ,  0.65994],\n",
       "       [61.002  ,  3.8188 ,  0.48748,  6.0738 ,  3.8133 ,  0.45038,\n",
       "        25.9    ,  2.3842 ,  0.65994],\n",
       "       [60.905  ,  3.8183 ,  0.48748,  6.0764 ,  3.8132 ,  0.4503 ,\n",
       "        25.9    ,  2.3842 ,  0.65994],\n",
       "       [60.796  ,  3.818  ,  0.48747,  6.0795 ,  3.8131 ,  0.45021,\n",
       "        25.901  ,  2.3843 ,  0.65994],\n",
       "       [60.716  ,  3.8176 ,  0.48746,  6.0843 ,  3.813  ,  0.45017,\n",
       "        25.901  ,  2.3843 ,  0.65994],\n",
       "       [60.603  ,  3.8171 ,  0.48744,  6.0861 ,  3.813  ,  0.45007,\n",
       "        25.9    ,  2.3843 ,  0.65994],\n",
       "       [60.498  ,  3.8168 ,  0.48743,  6.0893 ,  3.8129 ,  0.44997,\n",
       "        25.9    ,  2.3843 ,  0.65994],\n",
       "       [60.42   ,  3.8164 ,  0.48743,  6.0916 ,  3.8128 ,  0.4499 ,\n",
       "        25.901  ,  2.3844 ,  0.65994],\n",
       "       [60.331  ,  3.816  ,  0.48743,  6.0946 ,  3.8127 ,  0.44984,\n",
       "        25.903  ,  2.3844 ,  0.65994],\n",
       "       [60.244  ,  3.8156 ,  0.48742,  6.0978 ,  3.8126 ,  0.44978,\n",
       "        25.904  ,  2.3844 ,  0.65994],\n",
       "       [60.17   ,  3.8153 ,  0.48742,  6.1008 ,  3.8126 ,  0.44971,\n",
       "        25.905  ,  2.3844 ,  0.65994],\n",
       "       [60.077  ,  3.8149 ,  0.48741,  6.1042 ,  3.8125 ,  0.44965,\n",
       "        25.906  ,  2.3844 ,  0.65994],\n",
       "       [60.011  ,  3.8146 ,  0.48741,  6.1075 ,  3.8125 ,  0.44961,\n",
       "        25.907  ,  2.3845 ,  0.65994],\n",
       "       [59.921  ,  3.8143 ,  0.48739,  6.1101 ,  3.8124 ,  0.44955,\n",
       "        25.908  ,  2.3845 ,  0.65994],\n",
       "       [59.838  ,  3.8139 ,  0.48738,  6.1129 ,  3.8124 ,  0.4495 ,\n",
       "        25.909  ,  2.3845 ,  0.65994],\n",
       "       [59.769  ,  3.8136 ,  0.48738,  6.1155 ,  3.8123 ,  0.44947,\n",
       "        25.911  ,  2.3845 ,  0.65994],\n",
       "       [59.695  ,  3.8132 ,  0.48738,  6.1186 ,  3.8123 ,  0.44942,\n",
       "        25.913  ,  2.3845 ,  0.65994],\n",
       "       [59.624  ,  3.8129 ,  0.48737,  6.1202 ,  3.8123 ,  0.44938,\n",
       "        25.914  ,  2.3845 ,  0.65994],\n",
       "       [59.568  ,  3.8125 ,  0.48737,  6.1221 ,  3.8122 ,  0.44934,\n",
       "        25.916  ,  2.3846 ,  0.65994],\n",
       "       [59.5    ,  3.8122 ,  0.48738,  6.1245 ,  3.8122 ,  0.4493 ,\n",
       "        25.917  ,  2.3846 ,  0.65994],\n",
       "       [59.438  ,  3.8119 ,  0.48737,  6.1261 ,  3.8121 ,  0.44927,\n",
       "        25.918  ,  2.3846 ,  0.65994],\n",
       "       [59.371  ,  3.8115 ,  0.48737,  6.1289 ,  3.8121 ,  0.44923,\n",
       "        25.919  ,  2.3846 ,  0.65994],\n",
       "       [59.32   ,  3.8113 ,  0.48737,  6.1307 ,  3.812  ,  0.44921,\n",
       "        25.921  ,  2.3846 ,  0.65994],\n",
       "       [59.285  ,  3.8111 ,  0.48737,  6.1316 ,  3.812  ,  0.44919,\n",
       "        25.924  ,  2.3846 ,  0.65994],\n",
       "       [59.241  ,  3.811  ,  0.48738,  6.1335 ,  3.812  ,  0.44916,\n",
       "        25.924  ,  2.3846 ,  0.65994],\n",
       "       [59.195  ,  3.8108 ,  0.48738,  6.1355 ,  3.812  ,  0.44914,\n",
       "        25.926  ,  2.3846 ,  0.65994],\n",
       "       [59.176  ,  3.8106 ,  0.48737,  6.1362 ,  3.8119 ,  0.44913,\n",
       "        25.928  ,  2.3846 ,  0.65994],\n",
       "       [59.114  ,  3.8104 ,  0.48737,  6.1378 ,  3.8119 ,  0.44912,\n",
       "        25.929  ,  2.3846 ,  0.65995]])"
      ]
     },
     "execution_count": 4,
     "metadata": {},
     "output_type": "execute_result"
    }
   ],
   "source": [
    "PZ =  values[:,15:24]\n",
    "PZ"
   ]
  },
  {
   "cell_type": "code",
   "execution_count": 5,
   "id": "5da48ef0-021c-438d-8c1c-90762edd6ed5",
   "metadata": {},
   "outputs": [
    {
     "data": {
      "text/plain": [
       "array([[10.588  , 46.761  , 25.695  , ..., 12.402  ,  0.27533,  0.63484],\n",
       "       [10.588  , 46.761  , 25.695  , ..., 12.402  ,  0.27533,  0.63484],\n",
       "       [10.588  , 46.761  , 25.695  , ..., 12.402  ,  0.27533,  0.63484],\n",
       "       ...,\n",
       "       [10.91   , 46.807  , 21.65   , ..., 14.223  ,  0.28676,  0.64519],\n",
       "       [10.91   , 46.734  , 21.635  , ..., 14.233  ,  0.28678,  0.64523],\n",
       "       [10.911  , 46.672  , 21.62   , ..., 14.238  ,  0.28681,  0.64529]])"
      ]
     },
     "execution_count": 5,
     "metadata": {},
     "output_type": "execute_result"
    }
   ],
   "source": [
    "P3b = values[:,24:]\n",
    "P3b\n"
   ]
  },
  {
   "cell_type": "code",
   "execution_count": 6,
   "id": "26a2f66d-288b-4ad6-9a87-bc47e600ed20",
   "metadata": {},
   "outputs": [
    {
     "data": {
      "text/plain": [
       "<matplotlib.lines.Line2D at 0x7fb8b2ec9880>"
      ]
     },
     "execution_count": 6,
     "metadata": {},
     "output_type": "execute_result"
    },
    {
     "data": {
      "image/png": "[encoded data removed]",
      "text/plain": [
       "<Figure size 432x288 with 1 Axes>"
      ]
     },
     "metadata": {
      "needs_background": "light"
     },
     "output_type": "display_data"
    }
   ],
   "source": [
    "plt.plot(P2b[:,::5]) \n",
    "plt.title(\"A\")\n",
    "plt.axhline(350)"
   ]
  },
  {
   "cell_type": "code",
   "execution_count": 7,
   "id": "5802d68d-c462-48e8-856e-d1c6c4c3f206",
   "metadata": {
    "tags": []
   },
   "outputs": [
    {
     "data": {
      "text/plain": [
       "<matplotlib.lines.Line2D at 0x7fb8b2094a30>"
      ]
     },
     "execution_count": 7,
     "metadata": {},
     "output_type": "execute_result"
    },
    {
     "data": {
      "image/png": "[encoded data removed]",
      "text/plain": [
       "<Figure size 432x288 with 1 Axes>"
      ]
     },
     "metadata": {
      "needs_background": "light"
     },
     "output_type": "display_data"
    }
   ],
   "source": [
    "plt.plot(P2b[:,1::5]) \n",
    "plt.title(\"B\")\n",
    "plt.axhline(9)"
   ]
  },
  {
   "cell_type": "code",
   "execution_count": 8,
   "id": "2021669d-2552-4bb3-be07-6f54bcae0940",
   "metadata": {},
   "outputs": [
    {
     "data": {
      "text/plain": [
       "<matplotlib.lines.Line2D at 0x7fb8afd8a0d0>"
      ]
     },
     "execution_count": 8,
     "metadata": {},
     "output_type": "execute_result"
    },
    {
     "data": {
      "image/png": "[encoded data removed]",
      "text/plain": [
       "<Figure size 432x288 with 1 Axes>"
      ]
     },
     "metadata": {
      "needs_background": "light"
     },
     "output_type": "display_data"
    }
   ],
   "source": [
    "plt.plot(P2b[:,2::5]) \n",
    "plt.title(\"rho\")\n",
    "plt.axhline(10)"
   ]
  },
  {
   "cell_type": "code",
   "execution_count": 9,
   "id": "31204d78-0f63-41f2-b2ec-117146b7b5f2",
   "metadata": {},
   "outputs": [
    {
     "data": {
      "text/plain": [
       "Text(0.5, 1.0, 'beta')"
      ]
     },
     "execution_count": 9,
     "metadata": {},
     "output_type": "execute_result"
    },
    {
     "data": {
      "image/png": "[encoded data removed]",
      "text/plain": [
       "<Figure size 432x288 with 1 Axes>"
      ]
     },
     "metadata": {
      "needs_background": "light"
     },
     "output_type": "display_data"
    }
   ],
   "source": [
    "plt.plot(P2b[:,3::5]) \n",
    "plt.title(\"beta\")\n",
    "#plt.axhline(5)"
   ]
  },
  {
   "cell_type": "code",
   "execution_count": 10,
   "id": "9f8e67f1-2976-4aa5-b4b3-a1e618796d80",
   "metadata": {},
   "outputs": [
    {
     "data": {
      "text/plain": [
       "<matplotlib.lines.Line2D at 0x7fb8afcd7af0>"
      ]
     },
     "execution_count": 10,
     "metadata": {},
     "output_type": "execute_result"
    },
    {
     "data": {
      "image/png": "[encoded data removed]",
      "text/plain": [
       "<Figure size 432x288 with 1 Axes>"
      ]
     },
     "metadata": {
      "needs_background": "light"
     },
     "output_type": "display_data"
    }
   ],
   "source": [
    "plt.plot(P2b[:,4::5]) \n",
    "plt.title(\"sigma\")\n",
    "plt.axhline(8)"
   ]
  },
  {
   "cell_type": "code",
   "execution_count": 11,
   "id": "0a3b73e1-aa52-44f9-ae15-87b688023ea1",
   "metadata": {},
   "outputs": [
    {
     "data": {
      "text/plain": [
       "<matplotlib.lines.Line2D at 0x7fb8afc4c5b0>"
      ]
     },
     "execution_count": 11,
     "metadata": {},
     "output_type": "execute_result"
    },
    {
     "data": {
      "image/png": "[encoded data removed]",
      "text/plain": [
       "<Figure size 432x288 with 1 Axes>"
      ]
     },
     "metadata": {
      "needs_background": "light"
     },
     "output_type": "display_data"
    }
   ],
   "source": [
    "plt.plot(P3b[:,0::9])\n",
    "plt.title(\"gamma\")\n",
    "plt.axhline(11)"
   ]
  },
  {
   "cell_type": "code",
   "execution_count": 12,
   "id": "9ba4c33a-b2f1-4d37-b641-6de69770e09d",
   "metadata": {},
   "outputs": [
    {
     "data": {
      "text/plain": [
       "<matplotlib.lines.Line2D at 0x7fb8afc356d0>"
      ]
     },
     "execution_count": 12,
     "metadata": {},
     "output_type": "execute_result"
    },
    {
     "data": {
      "image/png": "[encoded data removed]",
      "text/plain": [
       "<Figure size 432x288 with 1 Axes>"
      ]
     },
     "metadata": {
      "needs_background": "light"
     },
     "output_type": "display_data"
    }
   ],
   "source": [
    "plt.plot(P3b[:,1::9])\n",
    "plt.title(\"lambda\")\n",
    "plt.axhline(100)"
   ]
  },
  {
   "cell_type": "code",
   "execution_count": 13,
   "id": "386ed52b-cf49-46af-b3ac-86f0b5303c11",
   "metadata": {},
   "outputs": [
    {
     "data": {
      "text/plain": [
       "<matplotlib.lines.Line2D at 0x7fb8afba2370>"
      ]
     },
     "execution_count": 13,
     "metadata": {},
     "output_type": "execute_result"
    },
    {
     "data": {
      "image/png": "[encoded data removed]",
      "text/plain": [
       "<Figure size 432x288 with 1 Axes>"
      ]
     },
     "metadata": {
      "needs_background": "light"
     },
     "output_type": "display_data"
    }
   ],
   "source": [
    "plt.plot(P3b[:,2::9])\n",
    "plt.title(\"eta\")\n",
    "plt.axhline(30)"
   ]
  },
  {
   "cell_type": "code",
   "execution_count": 14,
   "id": "29f3971a-bce7-4eef-aa1f-b6c42bd4cc93",
   "metadata": {},
   "outputs": [
    {
     "data": {
      "text/plain": [
       "<matplotlib.lines.Line2D at 0x7fb8afb0b850>"
      ]
     },
     "execution_count": 14,
     "metadata": {},
     "output_type": "execute_result"
    },
    {
     "data": {
      "image/png": "[encoded data removed]",
      "text/plain": [
       "<Figure size 432x288 with 1 Axes>"
      ]
     },
     "metadata": {
      "needs_background": "light"
     },
     "output_type": "display_data"
    }
   ],
   "source": [
    "plt.plot(P3b[:,3::9])\n",
    "plt.title(\"Q0\")\n",
    "plt.axhline(10000)"
   ]
  },
  {
   "cell_type": "code",
   "execution_count": 15,
   "id": "d3a85d07-bbdc-4cda-a70b-1559a8ace91e",
   "metadata": {},
   "outputs": [
    {
     "data": {
      "text/plain": [
       "<matplotlib.lines.Line2D at 0x7fb8afaf85e0>"
      ]
     },
     "execution_count": 15,
     "metadata": {},
     "output_type": "execute_result"
    },
    {
     "data": {
      "image/png": "[encoded data removed]",
      "text/plain": [
       "<Figure size 432x288 with 1 Axes>"
      ]
     },
     "metadata": {
      "needs_background": "light"
     },
     "output_type": "display_data"
    }
   ],
   "source": [
    "plt.plot(P3b[:,4::9])\n",
    "plt.title(\"Mu\")\n",
    "plt.axhline(15)"
   ]
  },
  {
   "cell_type": "code",
   "execution_count": 16,
   "id": "a05a3639-638e-455d-842a-752d23be5234",
   "metadata": {},
   "outputs": [
    {
     "data": {
      "text/plain": [
       "<matplotlib.lines.Line2D at 0x7fb8afa65a00>"
      ]
     },
     "execution_count": 16,
     "metadata": {},
     "output_type": "execute_result"
    },
    {
     "data": {
      "image/png": "[encoded data removed]",
      "text/plain": [
       "<Figure size 432x288 with 1 Axes>"
      ]
     },
     "metadata": {
      "needs_background": "light"
     },
     "output_type": "display_data"
    }
   ],
   "source": [
    "plt.plot(P3b[:,[5,6,7,8,14,15,16,17, 23,24,25,26]])\n",
    "plt.title(\"u\")\n",
    "plt.axhline(350)"
   ]
  },
  {
   "cell_type": "code",
   "execution_count": 17,
   "id": "e7215ca5-f4de-4097-8bb3-c050d013de58",
   "metadata": {},
   "outputs": [
    {
     "data": {
      "text/plain": [
       "<matplotlib.lines.Line2D at 0x7fb8af9ef8b0>"
      ]
     },
     "execution_count": 17,
     "metadata": {},
     "output_type": "execute_result"
    },
    {
     "data": {
      "image/png": "[encoded data removed]",
      "text/plain": [
       "<Figure size 432x288 with 1 Axes>"
      ]
     },
     "metadata": {
      "needs_background": "light"
     },
     "output_type": "display_data"
    }
   ],
   "source": [
    "plt.plot(PZ[:,::3])\n",
    "plt.title(\"alpha\")\n",
    "plt.axhline(150)"
   ]
  },
  {
   "cell_type": "code",
   "execution_count": 18,
   "id": "98eb344f-5d77-47ab-8155-ddd71dfd2ad3",
   "metadata": {},
   "outputs": [
    {
     "data": {
      "text/plain": [
       "<matplotlib.lines.Line2D at 0x7fb8af964160>"
      ]
     },
     "execution_count": 18,
     "metadata": {},
     "output_type": "execute_result"
    },
    {
     "data": {
      "image/png": "[encoded data removed]",
      "text/plain": [
       "<Figure size 432x288 with 1 Axes>"
      ]
     },
     "metadata": {
      "needs_background": "light"
     },
     "output_type": "display_data"
    }
   ],
   "source": [
    "plt.plot(PZ[:,1::3])\n",
    "plt.title(\"CutoffA\")\n",
    "plt.axhline(9)"
   ]
  },
  {
   "cell_type": "code",
   "execution_count": 19,
   "id": "0f50841a-09e7-429a-bfb6-7fcccd4a8143",
   "metadata": {},
   "outputs": [
    {
     "data": {
      "text/plain": [
       "<matplotlib.lines.Line2D at 0x7fb8af8cf160>"
      ]
     },
     "execution_count": 19,
     "metadata": {},
     "output_type": "execute_result"
    },
    {
     "data": {
      "image/png": "[encoded data removed]",
      "text/plain": [
       "<Figure size 432x288 with 1 Axes>"
      ]
     },
     "metadata": {
      "needs_background": "light"
     },
     "output_type": "display_data"
    }
   ],
   "source": [
    "plt.plot(PZ[:,2::3])\n",
    "plt.title(\"CutoffC\")\n",
    "plt.axhline(0.9)"
   ]
  },
  {
   "cell_type": "code",
   "execution_count": null,
   "id": "76979ab9-29c3-428a-ae11-501366bf3d47",
   "metadata": {},
   "outputs": [],
   "source": []
  },
  {
   "cell_type": "code",
   "execution_count": 20,
   "id": "fb5fb368-12b7-4731-b5be-b88cd42086a5",
   "metadata": {},
   "outputs": [
    {
     "data": {
      "text/plain": [
       "array([2.2675e+02, 1.3635e+00, 3.6552e+00, 1.8376e-02, 7.2749e+00,\n",
       "       5.1108e+01, 1.3450e+00, 5.7273e+00, 3.1013e-02, 4.1855e+00,\n",
       "       1.9848e+02, 6.1213e-01, 9.5686e-02, 7.8205e-03, 1.2525e+00])"
      ]
     },
     "execution_count": 20,
     "metadata": {},
     "output_type": "execute_result"
    }
   ],
   "source": [
    "P2b[-1,:]"
   ]
  },
  {
   "cell_type": "code",
   "execution_count": 21,
   "id": "5a7a653a-7814-4c49-b95d-152f787a12db",
   "metadata": {},
   "outputs": [
    {
     "data": {
      "text/plain": [
       "array([ 1.0911e+01,  4.6672e+01,  2.1620e+01,  6.7313e+03,  1.4706e+00,\n",
       "       -2.2184e+00,  8.3099e+01,  5.0332e-01,  8.4969e-01,  9.9682e+00,\n",
       "        1.0000e+02,  2.8052e+01,  6.8309e+03,  3.5423e+00,  2.6334e+00,\n",
       "        2.9789e+02,  6.6714e-01,  1.2137e-01,  1.9560e+00,  8.2304e+01,\n",
       "        2.8841e+01,  3.9509e+03,  6.6958e+00,  1.7785e+00,  1.4238e+01,\n",
       "        2.8681e-01,  6.4529e-01])"
      ]
     },
     "execution_count": 21,
     "metadata": {},
     "output_type": "execute_result"
    }
   ],
   "source": [
    "P3b[-1,:]"
   ]
  },
  {
   "cell_type": "code",
   "execution_count": 22,
   "id": "342d6b38-6de4-468d-b4a0-422e98abb6b5",
   "metadata": {},
   "outputs": [],
   "source": [
    "NiA = P2b[-1,0]\n",
    "NiB = P2b[-1,1]\n",
    "Nirho = P2b[-1,2]\n",
    "Nibeta = P2b[-1,3]\n",
    "Nisigma = P2b[-1,4]\n",
    "AlA = P2b[-1,5]\n",
    "AlB = P2b[-1,6]\n",
    "Alrho = P2b[-1,7]\n",
    "Albeta = P2b[-1,8]\n",
    "Alsigma = P2b[-1,9]\n",
    "OA = P2b[-1,10]\n",
    "OB = P2b[-1,11]\n",
    "Orho = P2b[-1,12]\n",
    "Obeta = P2b[-1,13]\n",
    "Osigma = P2b[-1,14]\n",
    "\n",
    "Nialpha = PZ[-1,0]\n",
    "NiCutA = PZ[-1,1]\n",
    "NiCutC = PZ[-1,2]\n",
    "Alalpha = PZ[-1,3]\n",
    "AlCutA = PZ[-1,4]\n",
    "AlCutC = PZ[-1,5]\n",
    "Oalpha = PZ[-1,6]\n",
    "OCutA = PZ[-1,7]\n",
    "OCutC = PZ[-1,8]\n",
    "\n",
    "\n",
    "Nigamma = P3b[-1,0]\n",
    "Nilambda = P3b[-1, 1]\n",
    "Nieta = P3b[-1,2]\n",
    "NiQ0 = P3b[-1,3]\n",
    "Nimu = P3b[-1,4]\n",
    "Niu1 = P3b[-1,5]\n",
    "Niu2 = P3b[-1,6]\n",
    "Niu3 =  P3b[-1,7]\n",
    "Niu4 = P3b[-1,8]\n",
    "\n",
    "Algamma = P3b[-1,9]\n",
    "Allambda = P3b[-1, 10]\n",
    "Aleta = P3b[-1,11]\n",
    "AlQ0 = P3b[-1,12]\n",
    "Almu = P3b[-1,13]\n",
    "Alu1 = P3b[-1,14]\n",
    "Alu2 = P3b[-1,15]\n",
    "Alu3 =  P3b[-1,16]\n",
    "Alu4 = P3b[-1,17]\n",
    "\n",
    "\n",
    "Ogamma = P3b[-1,18]\n",
    "Olambda = P3b[-1, 19]\n",
    "Oeta = P3b[-1,20]\n",
    "OQ0 = P3b[-1,21]\n",
    "Omu = P3b[-1,22]\n",
    "Ou1 = P3b[-1,23]\n",
    "Ou2 = P3b[-1,24]\n",
    "Ou3 =  P3b[-1,25]\n",
    "Ou4 = P3b[-1,26]\n"
   ]
  },
  {
   "cell_type": "code",
   "execution_count": 23,
   "id": "7a7ce7f7-e61f-49ef-9fa9-05a30ede97df",
   "metadata": {},
   "outputs": [],
   "source": [
    "def write_edip_file(char):\n",
    "    with open(\"proto.edip\", 'w') as f:\n",
    "        f.write(f\"\"\"\n",
    "# Nitrogen EDIP prototype.\n",
    "#     A   B   cutoffA   cutoffC   alpha   beta   eta \n",
    "#     gamma   lambda    mu   rho   sigma   Q0 \n",
    "#     u1 u2 u3 u4\n",
    "\n",
    "Ni Ni Ni 0 0 0.1 0.05 1 1 0 0 0 1 1 0 0 0 0 0 0\n",
    "Ni Ni Al 0 0 0.1 0.05 1 1 0 0 0 1 1 0 0 0 0 0 0\n",
    "Ni Ni N  0 0 0.1 0.05 1 1 0 0 0 1 1 0 0 0 0 0 0\n",
    "Ni Al Ni 0 0 0.1 0.05 1 1 0 0 0 1 1 0 0 0 0 0 0\n",
    "Ni Al Al 0 0 0.1 0.05 1 1 0 0 0 1 1 0 0 0 0 0 0\n",
    "Ni Al N  0 0 0.1 0.05 1 1 0 0 0 1 1 0 0 0 0 0 0\n",
    "Ni N  Ni 0 0 0.1 0.05 1 1 0 0 0 1 1 0 0 0 0 0 0\n",
    "Ni N  Al 0 0 0.1 0.05 1 1 0 0 0 1 1 0 0 0 0 0 0\n",
    "Ni N  N  0 0 0.1 0.05 1 1 0 0 0 1 1 0 0 0 0 0 0\n",
    "Al Ni Ni 0 0 0.1 0.05 1 1 0 0 0 1 1 0 0 0 0 0 0\n",
    "Al Ni Al 0 0 0.1 0.05 1 1 0 0 0 1 1 0 0 0 0 0 0\n",
    "Al Ni N  0 0 0.1 0.05 1 1 0 0 0 1 1 0 0 0 0 0 0\n",
    "Al Al Ni 0 0 0.1 0.05 1 1 0 0 0 1 1 0 0 0 0 0 0\n",
    "Al Al Al 0 0 0.1 0.05 1 1 0 0 0 1 1 0 0 0 0 0 0\n",
    "Al Al N  0 0 0.1 0.05 1 1 0 0 0 1 1 0 0 0 0 0 0\n",
    "Al N  Ni 0 0 0.1 0.05 1 1 0 0 0 1 1 0 0 0 0 0 0\n",
    "Al N  Al 0 0 0.1 0.05 1 1 0 0 0 1 1 0 0 0 0 0 0\n",
    "Al N  N  0 0 0.1 0.05 1 1 0 0 0 1 1 0 0 0 0 0 0\n",
    "N  Ni Ni {NiA} {NiB} {NiCutA} {NiCutC*NiCutA}   {Nialpha} {Nibeta} {Nieta}\n",
    "        {Nigamma}   {Nilambda}    {Nimu}   {Nirho} {Nisigma} {NiQ0}\n",
    "        {Niu1} {Niu2}      {Niu3}      {Niu4}\n",
    "N  Ni Al 0 0 0.1 0.05 1 1 0 0 0 1 1 0 0 0 0 0 0\n",
    "N  Ni N  0 0 0.1 0.05 1 1 0 0 0 1 1 0 0 0 0 0 0\n",
    "N  Al Ni 0 0 0.1 0.05 1 1 0 0 0 1 1 0 0 0 0 0 0\n",
    "N  Al Al {AlA} {AlB} {AlCutA} {AlCutC*AlCutA}   {Alalpha} {Albeta} {Aleta}\n",
    "        {Algamma}   {Allambda}    {Almu}   {Alrho} {Alsigma} {AlQ0}\n",
    "        {Alu1} {Alu2}      {Alu3}      {Alu4}\n",
    "N  Al N  0 0 0.1 0.05 1 1 0 0 0 1 1 0 0 0 0 0 0\n",
    "N  N  Ni 0 0 0.1 0.05 1 1 0 0 0 1 1 0 0 0 0 0 0\n",
    "N  N  Al 0 0 0.1 0.05 1 1 0 0 0 1 1 0 0 0 0 0 0\n",
    "N  N  N {OA} {OB} {OCutA} {OCutC*OCutA}   {Oalpha} {Obeta} {Oeta}\n",
    "        {Ogamma}   {Olambda}    {Omu}   {Orho} {Osigma} {OQ0}\n",
    "        {Ou1} {Ou2}      {Ou3}      {Ou4}\n",
    "\n",
    "        \"\"\")"
   ]
  },
  {
   "cell_type": "code",
   "execution_count": 24,
   "id": "7ccdaf32-2371-4ab5-8a13-373342367812",
   "metadata": {},
   "outputs": [],
   "source": [
    "write_edip_file('N')"
   ]
  },
  {
   "cell_type": "code",
   "execution_count": 25,
   "id": "85277398-8ca1-4353-bdaa-be0c3424b5ba",
   "metadata": {},
   "outputs": [
    {
     "data": {
      "text/plain": [
       "array([59.114  ,  3.8104 ,  0.48737,  6.1378 ,  3.8119 ,  0.44912,\n",
       "       25.929  ,  2.3846 ,  0.65995])"
      ]
     },
     "execution_count": 25,
     "metadata": {},
     "output_type": "execute_result"
    }
   ],
   "source": [
    "PZ[-1,:]"
   ]
  },
  {
   "cell_type": "code",
   "execution_count": 26,
   "id": "78c1cb75-ccb2-425f-a0a6-da87478c1df3",
   "metadata": {},
   "outputs": [
    {
     "data": {
      "text/plain": [
       "array([2.2675e+02, 1.3635e+00, 3.6552e+00, 1.8376e-02, 7.2749e+00,\n",
       "       5.1108e+01, 1.3450e+00, 5.7273e+00, 3.1013e-02, 4.1855e+00,\n",
       "       1.9848e+02, 6.1213e-01, 9.5686e-02, 7.8205e-03, 1.2525e+00])"
      ]
     },
     "execution_count": 26,
     "metadata": {},
     "output_type": "execute_result"
    }
   ],
   "source": [
    "P2b[-1,:]"
   ]
  },
  {
   "cell_type": "code",
   "execution_count": 27,
   "id": "a0f13335-9c47-460d-93cb-bd264e77ea04",
   "metadata": {},
   "outputs": [
    {
     "data": {
      "text/plain": [
       "array([1.9560e+00, 8.2304e+01, 2.8841e+01, 3.9509e+03, 6.6958e+00,\n",
       "       1.7785e+00, 1.4238e+01, 2.8681e-01, 6.4529e-01])"
      ]
     },
     "execution_count": 27,
     "metadata": {},
     "output_type": "execute_result"
    }
   ],
   "source": [
    "P3b[-1,18:29]"
   ]
  },
  {
   "cell_type": "code",
   "execution_count": 28,
   "id": "e0ccf11f-7b4b-4def-9f97-9347206be759",
   "metadata": {},
   "outputs": [
    {
     "data": {
      "text/plain": [
       "1.956"
      ]
     },
     "execution_count": 28,
     "metadata": {},
     "output_type": "execute_result"
    }
   ],
   "source": [
    "Ogamma"
   ]
  },
  {
   "cell_type": "code",
   "execution_count": 29,
   "id": "1eb8744d-3b36-4b47-b434-827e9a370ef6",
   "metadata": {},
   "outputs": [
    {
     "data": {
      "text/plain": [
       "0.64529"
      ]
     },
     "execution_count": 29,
     "metadata": {},
     "output_type": "execute_result"
    }
   ],
   "source": [
    "Ou4"
   ]
  },
  {
   "cell_type": "code",
   "execution_count": null,
   "id": "76086e9f-f299-4e9e-8785-c25906a9b619",
   "metadata": {},
   "outputs": [],
   "source": []
  },
  {
   "cell_type": "code",
   "execution_count": null,
   "id": "aaf57e06-8615-4518-8e6f-5601a6df3499",
   "metadata": {},
   "outputs": [],
   "source": []
  },
  {
   "cell_type": "code",
   "execution_count": null,
   "id": "bb1e25dd-e5d6-471b-8a67-e92fc240c5a2",
   "metadata": {},
   "outputs": [],
   "source": []
  }
 ],
 "metadata": {
  "kernelspec": {
   "display_name": "Python 3 (ipykernel)",
   "language": "python",
   "name": "python3"
  },
  "language_info": {
   "codemirror_mode": {
    "name": "ipython",
    "version": 3
   },
   "file_extension": ".py",
   "mimetype": "text/x-python",
   "name": "python",
   "nbconvert_exporter": "python",
   "pygments_lexer": "ipython3",
   "version": "3.9.12"
  }
 },
 "nbformat": 4,
 "nbformat_minor": 5
}
