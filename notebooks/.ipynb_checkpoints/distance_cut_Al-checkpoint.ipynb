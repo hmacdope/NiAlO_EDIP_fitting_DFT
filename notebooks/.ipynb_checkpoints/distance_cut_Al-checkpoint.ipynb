{
 "cells": [
  {
   "cell_type": "code",
   "execution_count": 4,
   "id": "394adf7a-b28c-41d9-be08-eb97334a48fb",
   "metadata": {},
   "outputs": [],
   "source": [
    "import MDAnalysis as mda\n",
    "from MDAnalysis.lib.distances import capped_distance"
   ]
  },
  {
   "cell_type": "code",
   "execution_count": 5,
   "id": "53a429bd-78c2-4688-b942-1155097450b3",
   "metadata": {},
   "outputs": [
    {
     "name": "stderr",
     "output_type": "stream",
     "text": [
      "/home/hmacdope/anaconda3/envs/terry/lib/python3.9/site-packages/MDAnalysis/topology/guessers.py:146: UserWarning: Failed to guess the mass for the following atom types: X\n",
      "  warnings.warn(\"Failed to guess the mass for the following atom types: {}\".format(atom_type))\n"
     ]
    }
   ],
   "source": [
    "u = mda.Universe(\"../output/Al_scans.xyz\")"
   ]
  },
  {
   "cell_type": "code",
   "execution_count": 40,
   "id": "fc1a6940-6a90-4c59-adbb-4ef96f2de407",
   "metadata": {},
   "outputs": [],
   "source": [
    "names = 'SlabAlO2-s1/final_state.xyz SlabAlO2-s2/final_state.xyz SlabAlO2-s3/final_state.xyz SlabAlO2-s4/final_state.xyz SlabAlO2-s5/final_state.xyz SlabAlO2-s6/final_state.xyz SlabAlO2-s7/final_state.xyz SlabAlO2-s8/final_state.xyz SlabAlO2-s9/final_state.xyz SlabAlO2-s10/final_state.xyz SlabAlO2-s11/final_state.xyz SlabAlO2-s12/final_state.xyz SlabAlO2-s13/final_state.xyz SlabAlO2-s14/final_state.xyz SlabAlO2-s15/final_state.xyz SlabAlO2-s16/final_state.xyz SlabAlO2-s17/final_state.xyz SlabAlO2-s18/final_state.xyz SlabAlO2-s19/final_state.xyz SlabAlO2-s21/final_state.xyz SlabAlO2-s22/final_state.xyz SlabAlO2-s23/final_state.xyz SlabAlO2-s24/final_state.xyz'"
   ]
  },
  {
   "cell_type": "code",
   "execution_count": 41,
   "id": "0b23f0e8-f538-4241-8359-7f7f939a49dd",
   "metadata": {},
   "outputs": [],
   "source": [
    "names = names.split()\n"
   ]
  },
  {
   "cell_type": "code",
   "execution_count": 42,
   "id": "a9ae276e-23c8-48e7-977e-f2eb1bbe1a69",
   "metadata": {},
   "outputs": [
    {
     "data": {
      "text/plain": [
       "['SlabAlO2-s1/final_state.xyz',\n",
       " 'SlabAlO2-s2/final_state.xyz',\n",
       " 'SlabAlO2-s3/final_state.xyz',\n",
       " 'SlabAlO2-s4/final_state.xyz',\n",
       " 'SlabAlO2-s5/final_state.xyz',\n",
       " 'SlabAlO2-s6/final_state.xyz',\n",
       " 'SlabAlO2-s7/final_state.xyz',\n",
       " 'SlabAlO2-s8/final_state.xyz',\n",
       " 'SlabAlO2-s9/final_state.xyz',\n",
       " 'SlabAlO2-s10/final_state.xyz',\n",
       " 'SlabAlO2-s11/final_state.xyz',\n",
       " 'SlabAlO2-s12/final_state.xyz',\n",
       " 'SlabAlO2-s13/final_state.xyz',\n",
       " 'SlabAlO2-s14/final_state.xyz',\n",
       " 'SlabAlO2-s15/final_state.xyz',\n",
       " 'SlabAlO2-s16/final_state.xyz',\n",
       " 'SlabAlO2-s17/final_state.xyz',\n",
       " 'SlabAlO2-s18/final_state.xyz',\n",
       " 'SlabAlO2-s19/final_state.xyz',\n",
       " 'SlabAlO2-s21/final_state.xyz',\n",
       " 'SlabAlO2-s22/final_state.xyz',\n",
       " 'SlabAlO2-s23/final_state.xyz',\n",
       " 'SlabAlO2-s24/final_state.xyz']"
      ]
     },
     "execution_count": 42,
     "metadata": {},
     "output_type": "execute_result"
    }
   ],
   "source": [
    "names"
   ]
  },
  {
   "cell_type": "code",
   "execution_count": 45,
   "id": "349cb3bf-a9af-4376-8673-28acf8f2f228",
   "metadata": {},
   "outputs": [
    {
     "data": {
      "text/plain": [
       "['SlabAlO2-s1',\n",
       " 'SlabAlO2-s2',\n",
       " 'SlabAlO2-s3',\n",
       " 'SlabAlO2-s4',\n",
       " 'SlabAlO2-s5',\n",
       " 'SlabAlO2-s6',\n",
       " 'SlabAlO2-s7',\n",
       " 'SlabAlO2-s8',\n",
       " 'SlabAlO2-s9',\n",
       " 'SlabAlO2-s10',\n",
       " 'SlabAlO2-s11',\n",
       " 'SlabAlO2-s12',\n",
       " 'SlabAlO2-s13',\n",
       " 'SlabAlO2-s14',\n",
       " 'SlabAlO2-s15',\n",
       " 'SlabAlO2-s16',\n",
       " 'SlabAlO2-s17',\n",
       " 'SlabAlO2-s18',\n",
       " 'SlabAlO2-s19',\n",
       " 'SlabAlO2-s21',\n",
       " 'SlabAlO2-s22',\n",
       " 'SlabAlO2-s23',\n",
       " 'SlabAlO2-s24']"
      ]
     },
     "execution_count": 45,
     "metadata": {},
     "output_type": "execute_result"
    }
   ],
   "source": [
    "names_split = [n.split('/')[0] for n in names]\n",
    "names_split"
   ]
  },
  {
   "cell_type": "code",
   "execution_count": 48,
   "id": "3b31b5ae-1a14-423b-aef4-bb58541b38d4",
   "metadata": {},
   "outputs": [
    {
     "data": {
      "text/plain": [
       "23"
      ]
     },
     "execution_count": 48,
     "metadata": {},
     "output_type": "execute_result"
    }
   ],
   "source": [
    "len(names_split)"
   ]
  },
  {
   "cell_type": "code",
   "execution_count": 49,
   "id": "d250eb52-ed71-4a9a-baa1-6fa85f59d7c6",
   "metadata": {},
   "outputs": [
    {
     "data": {
      "text/plain": [
       "23"
      ]
     },
     "execution_count": 49,
     "metadata": {},
     "output_type": "execute_result"
    }
   ],
   "source": [
    "u.trajectory.n_frames"
   ]
  },
  {
   "cell_type": "code",
   "execution_count": 13,
   "id": "6d0ef4d9-e5e5-4c97-9cb5-b28e3c9395d1",
   "metadata": {},
   "outputs": [],
   "source": [
    "O = u.select_atoms(\"name O\")"
   ]
  },
  {
   "cell_type": "code",
   "execution_count": 8,
   "id": "9fe1bc3d-9baa-4413-8440-bfbb7cc6aaec",
   "metadata": {},
   "outputs": [],
   "source": [
    "u.dimensions"
   ]
  },
  {
   "cell_type": "code",
   "execution_count": 9,
   "id": "d1f319d3-27e2-4bbc-bc1a-cf3339835708",
   "metadata": {},
   "outputs": [
    {
     "data": {
      "text/plain": [
       "<AtomGroup with 8 atoms>"
      ]
     },
     "execution_count": 9,
     "metadata": {},
     "output_type": "execute_result"
    }
   ],
   "source": [
    "u.select_atoms(\"name X\")"
   ]
  },
  {
   "cell_type": "code",
   "execution_count": 12,
   "id": "f8de4fee-36e8-4f8b-a21c-13f46fb2ee90",
   "metadata": {},
   "outputs": [],
   "source": [
    "al = u.select_atoms(\"name Al\")"
   ]
  },
  {
   "cell_type": "code",
   "execution_count": 50,
   "id": "4846f6d4-add4-4f5e-a027-7d73497a1313",
   "metadata": {},
   "outputs": [
    {
     "name": "stdout",
     "output_type": "stream",
     "text": [
      "SlabAlO2-s1\n",
      "[[ 49   1]\n",
      " [ 58   0]\n",
      " [ 58   1]\n",
      " [121   1]\n",
      " [122   0]\n",
      " [122   1]\n",
      " [124   1]\n",
      " [178   1]\n",
      " [184   0]\n",
      " [184   1]\n",
      " [239   0]\n",
      " [239   1]\n",
      " [245   0]\n",
      " [247   0]\n",
      " [247   1]\n",
      " [248   0]]\n",
      "16\n",
      "SlabAlO2-s2\n",
      "[[ 49   1]\n",
      " [ 58   0]\n",
      " [ 58   1]\n",
      " [121   1]\n",
      " [122   0]\n",
      " [122   1]\n",
      " [124   1]\n",
      " [178   1]\n",
      " [184   0]\n",
      " [184   1]\n",
      " [239   0]\n",
      " [239   1]\n",
      " [245   0]\n",
      " [247   0]\n",
      " [247   1]\n",
      " [248   0]]\n",
      "16\n",
      "SlabAlO2-s3\n",
      "[[ 58   0]\n",
      " [ 58   1]\n",
      " [121   1]\n",
      " [122   0]\n",
      " [122   1]\n",
      " [124   1]\n",
      " [184   0]\n",
      " [184   1]\n",
      " [245   0]\n",
      " [247   0]\n",
      " [247   1]\n",
      " [248   0]]\n",
      "12\n",
      "SlabAlO2-s4\n",
      "[[ 58   0]\n",
      " [ 58   1]\n",
      " [121   1]\n",
      " [122   0]\n",
      " [122   1]\n",
      " [124   1]\n",
      " [184   0]\n",
      " [184   1]\n",
      " [245   0]\n",
      " [247   0]\n",
      " [247   1]\n",
      " [248   0]]\n",
      "12\n",
      "SlabAlO2-s5\n",
      "[[ 58   0]\n",
      " [ 58   1]\n",
      " [122   0]\n",
      " [184   0]\n",
      " [184   1]\n",
      " [247   1]]\n",
      "6\n",
      "SlabAlO2-s6\n",
      "[]\n",
      "0\n",
      "remove \n",
      "SlabAlO2-s7\n",
      "[]\n",
      "0\n",
      "remove \n",
      "SlabAlO2-s8\n",
      "[]\n",
      "0\n",
      "remove \n",
      "SlabAlO2-s9\n",
      "[[ 49   1]\n",
      " [ 58   0]\n",
      " [ 58   1]\n",
      " [121   1]\n",
      " [122   0]\n",
      " [122   1]\n",
      " [124   1]\n",
      " [178   1]\n",
      " [184   0]\n",
      " [184   1]\n",
      " [239   0]\n",
      " [239   1]\n",
      " [245   0]\n",
      " [247   0]\n",
      " [247   1]\n",
      " [248   0]]\n",
      "16\n",
      "SlabAlO2-s10\n",
      "[[ 49   1]\n",
      " [ 58   0]\n",
      " [ 58   1]\n",
      " [121   1]\n",
      " [122   0]\n",
      " [122   1]\n",
      " [124   1]\n",
      " [178   1]\n",
      " [184   0]\n",
      " [184   1]\n",
      " [239   0]\n",
      " [239   1]\n",
      " [245   0]\n",
      " [247   0]\n",
      " [247   1]\n",
      " [248   0]]\n",
      "16\n",
      "SlabAlO2-s11\n",
      "[[ 58   0]\n",
      " [ 58   1]\n",
      " [121   1]\n",
      " [122   0]\n",
      " [122   1]\n",
      " [124   1]\n",
      " [184   0]\n",
      " [184   1]\n",
      " [245   0]\n",
      " [247   0]\n",
      " [247   1]\n",
      " [248   0]]\n",
      "12\n",
      "SlabAlO2-s12\n",
      "[[ 58   0]\n",
      " [ 58   1]\n",
      " [122   0]\n",
      " [122   1]\n",
      " [184   0]\n",
      " [184   1]\n",
      " [247   0]\n",
      " [247   1]]\n",
      "8\n",
      "SlabAlO2-s13\n",
      "[[ 58   0]\n",
      " [ 58   1]\n",
      " [122   0]\n",
      " [184   0]\n",
      " [184   1]\n",
      " [247   1]]\n",
      "6\n",
      "SlabAlO2-s14\n",
      "[]\n",
      "0\n",
      "remove \n",
      "SlabAlO2-s15\n",
      "[]\n",
      "0\n",
      "remove \n",
      "SlabAlO2-s16\n",
      "[]\n",
      "0\n",
      "remove \n",
      "SlabAlO2-s17\n",
      "[[ 49   1]\n",
      " [ 58   0]\n",
      " [ 58   1]\n",
      " [121   1]\n",
      " [122   0]\n",
      " [122   1]\n",
      " [124   1]\n",
      " [178   1]\n",
      " [184   0]\n",
      " [184   1]\n",
      " [239   0]\n",
      " [239   1]\n",
      " [245   0]\n",
      " [247   0]\n",
      " [247   1]\n",
      " [248   0]]\n",
      "16\n",
      "SlabAlO2-s18\n",
      "[[ 49   1]\n",
      " [ 58   0]\n",
      " [ 58   1]\n",
      " [121   1]\n",
      " [122   0]\n",
      " [122   1]\n",
      " [124   1]\n",
      " [178   1]\n",
      " [184   0]\n",
      " [184   1]\n",
      " [239   0]\n",
      " [239   1]\n",
      " [245   0]\n",
      " [247   0]\n",
      " [247   1]\n",
      " [248   0]]\n",
      "16\n",
      "SlabAlO2-s19\n",
      "[[ 58   0]\n",
      " [ 58   1]\n",
      " [121   1]\n",
      " [122   0]\n",
      " [122   1]\n",
      " [124   1]\n",
      " [184   0]\n",
      " [184   1]\n",
      " [245   0]\n",
      " [247   0]\n",
      " [247   1]\n",
      " [248   0]]\n",
      "12\n",
      "SlabAlO2-s21\n",
      "[[ 58   0]\n",
      " [ 58   1]\n",
      " [122   0]\n",
      " [184   0]\n",
      " [184   1]\n",
      " [247   1]]\n",
      "6\n",
      "SlabAlO2-s22\n",
      "[]\n",
      "0\n",
      "remove \n",
      "SlabAlO2-s23\n",
      "[]\n",
      "0\n",
      "remove \n",
      "SlabAlO2-s24\n",
      "[]\n",
      "0\n",
      "remove \n"
     ]
    }
   ],
   "source": [
    " for i, ts in enumerate(u.trajectory):\n",
    "        a = capped_distance(al, O, 4.0)\n",
    "        print(names_split[i])\n",
    "        print(a[0])\n",
    "        print(len(a[0]))\n",
    "        if len(a[0]) == 0:\n",
    "            print(\"remove\")"
   ]
  },
  {
   "cell_type": "code",
   "execution_count": 22,
   "id": "24470e97-a425-44f8-9479-32498ef355ba",
   "metadata": {},
   "outputs": [
    {
     "data": {
      "text/plain": [
       "{}"
      ]
     },
     "execution_count": 22,
     "metadata": {},
     "output_type": "execute_result"
    }
   ],
   "source": []
  },
  {
   "cell_type": "code",
   "execution_count": null,
   "id": "8a604209-0062-4c5c-86da-7408b4ee5d8b",
   "metadata": {},
   "outputs": [],
   "source": []
  }
 ],
 "metadata": {
  "kernelspec": {
   "display_name": "Python 3 (ipykernel)",
   "language": "python",
   "name": "python3"
  },
  "language_info": {
   "codemirror_mode": {
    "name": "ipython",
    "version": 3
   },
   "file_extension": ".py",
   "mimetype": "text/x-python",
   "name": "python",
   "nbconvert_exporter": "python",
   "pygments_lexer": "ipython3",
   "version": "3.9.12"
  }
 },
 "nbformat": 4,
 "nbformat_minor": 5
}
