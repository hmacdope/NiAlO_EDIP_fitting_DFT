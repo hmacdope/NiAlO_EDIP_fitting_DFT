{
 "cells": [
  {
   "cell_type": "code",
   "execution_count": 2,
   "id": "6cb38849-2af8-4c79-abbb-3f3e46bf11e3",
   "metadata": {},
   "outputs": [],
   "source": [
    "from ase.io.lammpsdata import write_lammps_data\n",
    "from ase.io.vasp import read_vasp"
   ]
  },
  {
   "cell_type": "code",
   "execution_count": 4,
   "id": "90b3b7c1-c618-409a-979a-88b9dfd67591",
   "metadata": {},
   "outputs": [],
   "source": [
    "atoms = read_vasp(\"CONTCAR\")"
   ]
  },
  {
   "cell_type": "code",
   "execution_count": 5,
   "id": "4e5b586f-b17c-408f-8f34-ba8ed781b8a6",
   "metadata": {},
   "outputs": [
    {
     "data": {
      "text/plain": [
       "Atoms(symbols='Ni4O4', pbc=True, cell=[[4.216619580765489, 0.0, 3e-16], [7e-16, 4.216619580765489, 3e-16], [0.0, 0.0, 4.216619580765489]])"
      ]
     },
     "execution_count": 5,
     "metadata": {},
     "output_type": "execute_result"
    }
   ],
   "source": [
    "atoms"
   ]
  },
  {
   "cell_type": "code",
   "execution_count": 8,
   "id": "50a3881d-764b-44b8-b329-0c9505e11737",
   "metadata": {},
   "outputs": [],
   "source": [
    "write_lammps_data(\"NiO.data\", atoms)"
   ]
  },
  {
   "cell_type": "code",
   "execution_count": 10,
   "id": "07e5ccc8-79c6-4b91-aa8e-c096907a64c0",
   "metadata": {},
   "outputs": [
    {
     "data": {
      "text/plain": [
       "array([28, 28, 28, 28,  8,  8,  8,  8])"
      ]
     },
     "execution_count": 10,
     "metadata": {},
     "output_type": "execute_result"
    }
   ],
   "source": [
    "atoms.get_atomic_numbers()"
   ]
  },
  {
   "cell_type": "code",
   "execution_count": 11,
   "id": "6e4c3fe1-a585-4bd5-9bd8-3ab2bd1f1a27",
   "metadata": {},
   "outputs": [],
   "source": [
    "def V(e_conf_dft, modifier, e_ref_dft, E_O, N_O, E_ref_EAM, E_conf_EAM):\n",
    "    v = e_conf_dft - modifier*e_ref_dft - (E_O* N_O)  -(modifier*E_ref_EAM - E_conf_EAM)\n",
    "    return v\n"
   ]
  },
  {
   "cell_type": "code",
   "execution_count": 20,
   "id": "0e03358c-f525-4a04-9911-ed87447b566c",
   "metadata": {},
   "outputs": [],
   "source": [
    "Eform_V1 = V(-46.84887028, 4/256, -1497.4734, 0.0467, 4, -1136.4739, -13.2502197195369)"
   ]
  },
  {
   "cell_type": "code",
   "execution_count": 16,
   "id": "56c2712d-3663-49b4-af03-9165c9610a59",
   "metadata": {},
   "outputs": [],
   "source": [
    "\n",
    "def V2(e_conf_dft, modifier, e_ref_dft, E_O, N_O, E_ref_EAM, E_conf_EAM):\n",
    "    v = e_conf_dft - modifier*e_ref_dft - (E_O* N_O)  +modifier*E_ref_EAM - E_conf_EAM\n",
    "    return v"
   ]
  },
  {
   "cell_type": "code",
   "execution_count": 19,
   "id": "b46f4749-293a-440e-bb51-52308e721c7a",
   "metadata": {},
   "outputs": [],
   "source": [
    "Eform_V2 = V2(-46.84887028, 4/256, -1497.4734, 0.0467, 4, -1136.4739, -13.2502197195369)"
   ]
  },
  {
   "cell_type": "code",
   "execution_count": 23,
   "id": "40fe76c0-3f35-45aa-bc6a-93fe058dc8d5",
   "metadata": {},
   "outputs": [
    {
     "data": {
      "text/plain": [
       "-4.782615859259225"
      ]
     },
     "execution_count": 23,
     "metadata": {},
     "output_type": "execute_result"
    }
   ],
   "source": [
    "Eform_V1/4"
   ]
  },
  {
   "cell_type": "code",
   "execution_count": 21,
   "id": "9096a684-4939-4812-a3e2-29ab9920976f",
   "metadata": {},
   "outputs": [
    {
     "data": {
      "text/plain": [
       "-7.036208343240775"
      ]
     },
     "execution_count": 21,
     "metadata": {},
     "output_type": "execute_result"
    }
   ],
   "source": [
    "Eform_V2/4"
   ]
  },
  {
   "cell_type": "code",
   "execution_count": 25,
   "id": "bbf1635c-4928-4ba9-a53b-acf78b48dfe1",
   "metadata": {},
   "outputs": [],
   "source": [
    "# theo value for 125 unit "
   ]
  },
  {
   "cell_type": "code",
   "execution_count": 26,
   "id": "732f63e9-23f9-47ef-902f-41c55569be47",
   "metadata": {},
   "outputs": [
    {
     "data": {
      "text/plain": [
       "-1464.02719625"
      ]
     },
     "execution_count": 26,
     "metadata": {},
     "output_type": "execute_result"
    }
   ],
   "source": [
    "-46.84887028*(125/4)"
   ]
  },
  {
   "cell_type": "code",
   "execution_count": null,
   "id": "66019cb5-5c8d-44af-9550-3f57814a635f",
   "metadata": {},
   "outputs": [],
   "source": []
  },
  {
   "cell_type": "code",
   "execution_count": null,
   "id": "1072b45f-bdd6-41fc-b6d6-cb31a4c5086d",
   "metadata": {},
   "outputs": [],
   "source": []
  }
 ],
 "metadata": {
  "kernelspec": {
   "display_name": "Python 3 (ipykernel)",
   "language": "python",
   "name": "python3"
  },
  "language_info": {
   "codemirror_mode": {
    "name": "ipython",
    "version": 3
   },
   "file_extension": ".py",
   "mimetype": "text/x-python",
   "name": "python",
   "nbconvert_exporter": "python",
   "pygments_lexer": "ipython3",
   "version": "3.9.12"
  }
 },
 "nbformat": 4,
 "nbformat_minor": 5
}
